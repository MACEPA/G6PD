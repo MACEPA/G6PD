{
 "cells": [
  {
   "cell_type": "code",
   "execution_count": 12,
   "metadata": {},
   "outputs": [],
   "source": [
    "import math\n",
    "import numpy as np\n",
    "import pandas as pd\n",
    "from analytic_wfm import peakdetect_spline\n",
    "import matplotlib.pyplot as plt\n",
    "from scipy.stats import gaussian_kde\n",
    "from scipy.signal import find_peaks\n",
    "from scipy.interpolate import CubicSpline, UnivariateSpline\n",
    "from sklearn.neighbors import KernelDensity\n",
    "from FlowCytometryTools import FCMeasurement\n",
    "from statsmodels.distributions.empirical_distribution import ECDF\n",
    "# from jupyterthemes import jtplot\n",
    "# jtplot.style(theme='chesterish')"
   ]
  },
  {
   "cell_type": "code",
   "execution_count": 13,
   "metadata": {},
   "outputs": [],
   "source": [
    "fcs_dir = 'C:/Users/lzoeckler/Desktop/maria_data/Archive_facs'"
   ]
  },
  {
   "cell_type": "code",
   "execution_count": 14,
   "metadata": {},
   "outputs": [
    {
     "name": "stderr",
     "output_type": "stream",
     "text": [
      "Encountered an illegal utf-8 byte in the header.\n",
      " Illegal utf-8 characters will be ignored.\n",
      "'utf-8' codec can't decode byte 0xaa in position 101: invalid start byte\n",
      "Encountered an illegal utf-8 byte in the header.\n",
      " Illegal utf-8 characters will be ignored.\n",
      "'utf-8' codec can't decode byte 0xaa in position 101: invalid start byte\n"
     ]
    }
   ],
   "source": [
    "test = FCMeasurement(ID='', datafile='{}/1.fcs'.format(fcs_dir))\n",
    "fcs_data = test.data\n",
    "fcs_channels = test.channels"
   ]
  },
  {
   "cell_type": "code",
   "execution_count": 15,
   "metadata": {},
   "outputs": [
    {
     "name": "stdout",
     "output_type": "stream",
     "text": [
      "10000 observations\n",
      "<class 'pandas.core.frame.DataFrame'>\n"
     ]
    },
    {
     "data": {
      "text/html": [
       "<div>\n",
       "<style scoped>\n",
       "    .dataframe tbody tr th:only-of-type {\n",
       "        vertical-align: middle;\n",
       "    }\n",
       "\n",
       "    .dataframe tbody tr th {\n",
       "        vertical-align: top;\n",
       "    }\n",
       "\n",
       "    .dataframe thead th {\n",
       "        text-align: right;\n",
       "    }\n",
       "</style>\n",
       "<table border=\"1\" class=\"dataframe\">\n",
       "  <thead>\n",
       "    <tr style=\"text-align: right;\">\n",
       "      <th></th>\n",
       "      <th>$PnN</th>\n",
       "      <th>$PnR</th>\n",
       "      <th>$PnB</th>\n",
       "      <th>$PnE</th>\n",
       "      <th>$PnS</th>\n",
       "    </tr>\n",
       "    <tr>\n",
       "      <th>Channel Number</th>\n",
       "      <th></th>\n",
       "      <th></th>\n",
       "      <th></th>\n",
       "      <th></th>\n",
       "      <th></th>\n",
       "    </tr>\n",
       "  </thead>\n",
       "  <tbody>\n",
       "    <tr>\n",
       "      <th>1</th>\n",
       "      <td>FSC-H</td>\n",
       "      <td>1024</td>\n",
       "      <td>16</td>\n",
       "      <td>[0, 0]</td>\n",
       "      <td>FSC-Height</td>\n",
       "    </tr>\n",
       "    <tr>\n",
       "      <th>2</th>\n",
       "      <td>SSC-H</td>\n",
       "      <td>1024</td>\n",
       "      <td>16</td>\n",
       "      <td>[0, 0]</td>\n",
       "      <td>SSC-Height</td>\n",
       "    </tr>\n",
       "    <tr>\n",
       "      <th>3</th>\n",
       "      <td>FL1-H</td>\n",
       "      <td>1024</td>\n",
       "      <td>16</td>\n",
       "      <td>[4, 0]</td>\n",
       "      <td>FITC</td>\n",
       "    </tr>\n",
       "    <tr>\n",
       "      <th>4</th>\n",
       "      <td>FL2-H</td>\n",
       "      <td>1024</td>\n",
       "      <td>16</td>\n",
       "      <td>[4, 0]</td>\n",
       "      <td>None</td>\n",
       "    </tr>\n",
       "    <tr>\n",
       "      <th>5</th>\n",
       "      <td>FL3-H</td>\n",
       "      <td>1024</td>\n",
       "      <td>16</td>\n",
       "      <td>[4, 0]</td>\n",
       "      <td>None</td>\n",
       "    </tr>\n",
       "    <tr>\n",
       "      <th>6</th>\n",
       "      <td>FL1-A</td>\n",
       "      <td>1024</td>\n",
       "      <td>16</td>\n",
       "      <td>[0, 0]</td>\n",
       "      <td>None</td>\n",
       "    </tr>\n",
       "    <tr>\n",
       "      <th>7</th>\n",
       "      <td>FL4-H</td>\n",
       "      <td>1024</td>\n",
       "      <td>16</td>\n",
       "      <td>[4, 0]</td>\n",
       "      <td>None</td>\n",
       "    </tr>\n",
       "  </tbody>\n",
       "</table>\n",
       "</div>"
      ],
      "text/plain": [
       "                 $PnN  $PnR  $PnB    $PnE        $PnS\n",
       "Channel Number                                       \n",
       "1               FSC-H  1024    16  [0, 0]  FSC-Height\n",
       "2               SSC-H  1024    16  [0, 0]  SSC-Height\n",
       "3               FL1-H  1024    16  [4, 0]        FITC\n",
       "4               FL2-H  1024    16  [4, 0]        None\n",
       "5               FL3-H  1024    16  [4, 0]        None\n",
       "6               FL1-A  1024    16  [0, 0]        None\n",
       "7               FL4-H  1024    16  [4, 0]        None"
      ]
     },
     "execution_count": 15,
     "metadata": {},
     "output_type": "execute_result"
    }
   ],
   "source": [
    "print(len(fcs_data), 'observations')\n",
    "print(type(fcs_data))\n",
    "test.channels"
   ]
  },
  {
   "cell_type": "code",
   "execution_count": 16,
   "metadata": {},
   "outputs": [
    {
     "data": {
      "text/html": [
       "<div>\n",
       "<style scoped>\n",
       "    .dataframe tbody tr th:only-of-type {\n",
       "        vertical-align: middle;\n",
       "    }\n",
       "\n",
       "    .dataframe tbody tr th {\n",
       "        vertical-align: top;\n",
       "    }\n",
       "\n",
       "    .dataframe thead th {\n",
       "        text-align: right;\n",
       "    }\n",
       "</style>\n",
       "<table border=\"1\" class=\"dataframe\">\n",
       "  <thead>\n",
       "    <tr style=\"text-align: right;\">\n",
       "      <th></th>\n",
       "      <th>FSC-H</th>\n",
       "      <th>SSC-H</th>\n",
       "      <th>FL1-H</th>\n",
       "      <th>FL2-H</th>\n",
       "      <th>FL3-H</th>\n",
       "      <th>FL1-A</th>\n",
       "      <th>FL4-H</th>\n",
       "    </tr>\n",
       "  </thead>\n",
       "  <tbody>\n",
       "    <tr>\n",
       "      <th>0</th>\n",
       "      <td>395.0</td>\n",
       "      <td>205.0</td>\n",
       "      <td>468.0</td>\n",
       "      <td>416.0</td>\n",
       "      <td>419.0</td>\n",
       "      <td>13.0</td>\n",
       "      <td>451.0</td>\n",
       "    </tr>\n",
       "    <tr>\n",
       "      <th>1</th>\n",
       "      <td>237.0</td>\n",
       "      <td>385.0</td>\n",
       "      <td>516.0</td>\n",
       "      <td>453.0</td>\n",
       "      <td>454.0</td>\n",
       "      <td>22.0</td>\n",
       "      <td>470.0</td>\n",
       "    </tr>\n",
       "    <tr>\n",
       "      <th>2</th>\n",
       "      <td>190.0</td>\n",
       "      <td>148.0</td>\n",
       "      <td>552.0</td>\n",
       "      <td>477.0</td>\n",
       "      <td>489.0</td>\n",
       "      <td>32.0</td>\n",
       "      <td>527.0</td>\n",
       "    </tr>\n",
       "    <tr>\n",
       "      <th>3</th>\n",
       "      <td>487.0</td>\n",
       "      <td>169.0</td>\n",
       "      <td>579.0</td>\n",
       "      <td>529.0</td>\n",
       "      <td>553.0</td>\n",
       "      <td>41.0</td>\n",
       "      <td>553.0</td>\n",
       "    </tr>\n",
       "    <tr>\n",
       "      <th>4</th>\n",
       "      <td>419.0</td>\n",
       "      <td>185.0</td>\n",
       "      <td>525.0</td>\n",
       "      <td>465.0</td>\n",
       "      <td>470.0</td>\n",
       "      <td>25.0</td>\n",
       "      <td>512.0</td>\n",
       "    </tr>\n",
       "  </tbody>\n",
       "</table>\n",
       "</div>"
      ],
      "text/plain": [
       "   FSC-H  SSC-H  FL1-H  FL2-H  FL3-H  FL1-A  FL4-H\n",
       "0  395.0  205.0  468.0  416.0  419.0   13.0  451.0\n",
       "1  237.0  385.0  516.0  453.0  454.0   22.0  470.0\n",
       "2  190.0  148.0  552.0  477.0  489.0   32.0  527.0\n",
       "3  487.0  169.0  579.0  529.0  553.0   41.0  553.0\n",
       "4  419.0  185.0  525.0  465.0  470.0   25.0  512.0"
      ]
     },
     "execution_count": 16,
     "metadata": {},
     "output_type": "execute_result"
    }
   ],
   "source": [
    "fcs_data.head()"
   ]
  },
  {
   "cell_type": "code",
   "execution_count": 17,
   "metadata": {},
   "outputs": [
    {
     "data": {
      "text/html": [
       "<div>\n",
       "<style scoped>\n",
       "    .dataframe tbody tr th:only-of-type {\n",
       "        vertical-align: middle;\n",
       "    }\n",
       "\n",
       "    .dataframe tbody tr th {\n",
       "        vertical-align: top;\n",
       "    }\n",
       "\n",
       "    .dataframe thead th {\n",
       "        text-align: right;\n",
       "    }\n",
       "</style>\n",
       "<table border=\"1\" class=\"dataframe\">\n",
       "  <thead>\n",
       "    <tr style=\"text-align: right;\">\n",
       "      <th></th>\n",
       "      <th>FSC-H</th>\n",
       "      <th>SSC-H</th>\n",
       "      <th>FL1-A</th>\n",
       "    </tr>\n",
       "  </thead>\n",
       "  <tbody>\n",
       "    <tr>\n",
       "      <th>0</th>\n",
       "      <td>395.0</td>\n",
       "      <td>205.0</td>\n",
       "      <td>2.564949</td>\n",
       "    </tr>\n",
       "    <tr>\n",
       "      <th>1</th>\n",
       "      <td>237.0</td>\n",
       "      <td>385.0</td>\n",
       "      <td>3.091042</td>\n",
       "    </tr>\n",
       "    <tr>\n",
       "      <th>2</th>\n",
       "      <td>190.0</td>\n",
       "      <td>148.0</td>\n",
       "      <td>3.465736</td>\n",
       "    </tr>\n",
       "    <tr>\n",
       "      <th>3</th>\n",
       "      <td>487.0</td>\n",
       "      <td>169.0</td>\n",
       "      <td>3.713572</td>\n",
       "    </tr>\n",
       "    <tr>\n",
       "      <th>4</th>\n",
       "      <td>419.0</td>\n",
       "      <td>185.0</td>\n",
       "      <td>3.218876</td>\n",
       "    </tr>\n",
       "  </tbody>\n",
       "</table>\n",
       "</div>"
      ],
      "text/plain": [
       "   FSC-H  SSC-H     FL1-A\n",
       "0  395.0  205.0  2.564949\n",
       "1  237.0  385.0  3.091042\n",
       "2  190.0  148.0  3.465736\n",
       "3  487.0  169.0  3.713572\n",
       "4  419.0  185.0  3.218876"
      ]
     },
     "execution_count": 17,
     "metadata": {},
     "output_type": "execute_result"
    }
   ],
   "source": [
    "test = fcs_data.loc[fcs_data['FL1-A'] > 0]\n",
    "test = test[['FSC-H', 'SSC-H', 'FL1-A']]\n",
    "test['FL1-A'] = test['FL1-A'].apply(math.log)\n",
    "test.head()"
   ]
  },
  {
   "cell_type": "code",
   "execution_count": 18,
   "metadata": {},
   "outputs": [
    {
     "data": {
      "text/html": [
       "<div>\n",
       "<style scoped>\n",
       "    .dataframe tbody tr th:only-of-type {\n",
       "        vertical-align: middle;\n",
       "    }\n",
       "\n",
       "    .dataframe tbody tr th {\n",
       "        vertical-align: top;\n",
       "    }\n",
       "\n",
       "    .dataframe thead th {\n",
       "        text-align: right;\n",
       "    }\n",
       "</style>\n",
       "<table border=\"1\" class=\"dataframe\">\n",
       "  <thead>\n",
       "    <tr style=\"text-align: right;\">\n",
       "      <th></th>\n",
       "      <th>FSC-H</th>\n",
       "      <th>SSC-H</th>\n",
       "      <th>FL1-A</th>\n",
       "    </tr>\n",
       "  </thead>\n",
       "  <tbody>\n",
       "    <tr>\n",
       "      <th>0</th>\n",
       "      <td>0.787215</td>\n",
       "      <td>0.648359</td>\n",
       "      <td>2.564949</td>\n",
       "    </tr>\n",
       "    <tr>\n",
       "      <th>1</th>\n",
       "      <td>0.366547</td>\n",
       "      <td>0.883353</td>\n",
       "      <td>3.091042</td>\n",
       "    </tr>\n",
       "    <tr>\n",
       "      <th>2</th>\n",
       "      <td>0.264206</td>\n",
       "      <td>0.452781</td>\n",
       "      <td>3.465736</td>\n",
       "    </tr>\n",
       "    <tr>\n",
       "      <th>3</th>\n",
       "      <td>0.970988</td>\n",
       "      <td>0.536715</td>\n",
       "      <td>3.713572</td>\n",
       "    </tr>\n",
       "    <tr>\n",
       "      <th>4</th>\n",
       "      <td>0.853341</td>\n",
       "      <td>0.590336</td>\n",
       "      <td>3.218876</td>\n",
       "    </tr>\n",
       "  </tbody>\n",
       "</table>\n",
       "</div>"
      ],
      "text/plain": [
       "      FSC-H     SSC-H     FL1-A\n",
       "0  0.787215  0.648359  2.564949\n",
       "1  0.366547  0.883353  3.091042\n",
       "2  0.264206  0.452781  3.465736\n",
       "3  0.970988  0.536715  3.713572\n",
       "4  0.853341  0.590336  3.218876"
      ]
     },
     "execution_count": 18,
     "metadata": {},
     "output_type": "execute_result"
    }
   ],
   "source": [
    "FSC_ecdf = ECDF(test['FSC-H'])\n",
    "test['FSC-H'] = FSC_ecdf(test['FSC-H'])\n",
    "SSC_ecdf = ECDF(test['SSC-H'])\n",
    "test['SSC-H'] = SSC_ecdf(test['SSC-H'])\n",
    "test.head()"
   ]
  },
  {
   "cell_type": "code",
   "execution_count": 19,
   "metadata": {
    "scrolled": true
   },
   "outputs": [
    {
     "data": {
      "text/html": [
       "<div>\n",
       "<style scoped>\n",
       "    .dataframe tbody tr th:only-of-type {\n",
       "        vertical-align: middle;\n",
       "    }\n",
       "\n",
       "    .dataframe tbody tr th {\n",
       "        vertical-align: top;\n",
       "    }\n",
       "\n",
       "    .dataframe thead th {\n",
       "        text-align: right;\n",
       "    }\n",
       "</style>\n",
       "<table border=\"1\" class=\"dataframe\">\n",
       "  <thead>\n",
       "    <tr style=\"text-align: right;\">\n",
       "      <th></th>\n",
       "      <th>FSC-H</th>\n",
       "      <th>SSC-H</th>\n",
       "      <th>FL1-A</th>\n",
       "    </tr>\n",
       "  </thead>\n",
       "  <tbody>\n",
       "    <tr>\n",
       "      <th>4</th>\n",
       "      <td>0.853341</td>\n",
       "      <td>0.590336</td>\n",
       "      <td>3.218876</td>\n",
       "    </tr>\n",
       "    <tr>\n",
       "      <th>6</th>\n",
       "      <td>0.915066</td>\n",
       "      <td>0.449080</td>\n",
       "      <td>2.484907</td>\n",
       "    </tr>\n",
       "    <tr>\n",
       "      <th>7</th>\n",
       "      <td>0.703481</td>\n",
       "      <td>0.405362</td>\n",
       "      <td>2.639057</td>\n",
       "    </tr>\n",
       "    <tr>\n",
       "      <th>8</th>\n",
       "      <td>0.889156</td>\n",
       "      <td>0.494398</td>\n",
       "      <td>3.367296</td>\n",
       "    </tr>\n",
       "    <tr>\n",
       "      <th>9</th>\n",
       "      <td>0.585434</td>\n",
       "      <td>0.417167</td>\n",
       "      <td>2.079442</td>\n",
       "    </tr>\n",
       "  </tbody>\n",
       "</table>\n",
       "</div>"
      ],
      "text/plain": [
       "      FSC-H     SSC-H     FL1-A\n",
       "4  0.853341  0.590336  3.218876\n",
       "6  0.915066  0.449080  2.484907\n",
       "7  0.703481  0.405362  2.639057\n",
       "8  0.889156  0.494398  3.367296\n",
       "9  0.585434  0.417167  2.079442"
      ]
     },
     "execution_count": 19,
     "metadata": {},
     "output_type": "execute_result"
    }
   ],
   "source": [
    "fsc_filt = (.4, .95)\n",
    "ssc_filt = (.05, .6)\n",
    "sub_filter1 = (test['FSC-H'] >= fsc_filt[0])\n",
    "sub_filter2 = (test['FSC-H'] <= fsc_filt[1])\n",
    "sub_test = test.loc[sub_filter1 & sub_filter2]\n",
    "ssc_filter = (test['SSC-H'] >= ssc_filt[0]) & (test['SSC-H'] <= ssc_filt[1])\n",
    "sub_test = sub_test.loc[ssc_filter]\n",
    "sub_test.head()"
   ]
  },
  {
   "cell_type": "code",
   "execution_count": 21,
   "metadata": {},
   "outputs": [
    {
     "data": {
      "text/plain": [
       "<matplotlib.axes._subplots.AxesSubplot at 0x1bc747c9cf8>"
      ]
     },
     "execution_count": 21,
     "metadata": {},
     "output_type": "execute_result"
    },
    {
     "data": {
      "image/png": "[encoded data removed]",
      "text/plain": [
       "<Figure size 432x288 with 1 Axes>"
      ]
     },
     "metadata": {
      "needs_background": "light"
     },
     "output_type": "display_data"
    }
   ],
   "source": [
    "sub_test['FL1-A'].plot.kde()"
   ]
  },
  {
   "cell_type": "code",
   "execution_count": 22,
   "metadata": {},
   "outputs": [
    {
     "name": "stderr",
     "output_type": "stream",
     "text": [
      "C:\\Users\\lzoeckler\\miniconda3\\envs\\DIAMETER\\lib\\site-packages\\ipykernel_launcher.py:1: FutureWarning: Method .as_matrix will be removed in a future version. Use .values instead.\n",
      "  \"\"\"Entry point for launching an IPython kernel.\n"
     ]
    },
    {
     "data": {
      "text/html": [
       "<div>\n",
       "<style scoped>\n",
       "    .dataframe tbody tr th:only-of-type {\n",
       "        vertical-align: middle;\n",
       "    }\n",
       "\n",
       "    .dataframe tbody tr th {\n",
       "        vertical-align: top;\n",
       "    }\n",
       "\n",
       "    .dataframe thead th {\n",
       "        text-align: right;\n",
       "    }\n",
       "</style>\n",
       "<table border=\"1\" class=\"dataframe\">\n",
       "  <thead>\n",
       "    <tr style=\"text-align: right;\">\n",
       "      <th></th>\n",
       "      <th>FSC-H</th>\n",
       "      <th>SSC-H</th>\n",
       "      <th>FL1-A</th>\n",
       "      <th>density</th>\n",
       "      <th>freq</th>\n",
       "      <th>intensity</th>\n",
       "    </tr>\n",
       "  </thead>\n",
       "  <tbody>\n",
       "    <tr>\n",
       "      <th>206</th>\n",
       "      <td>0.617547</td>\n",
       "      <td>0.340136</td>\n",
       "      <td>0.000000</td>\n",
       "      <td>0.010357</td>\n",
       "      <td>0.000005</td>\n",
       "      <td>0.000000</td>\n",
       "    </tr>\n",
       "    <tr>\n",
       "      <th>22</th>\n",
       "      <td>0.527611</td>\n",
       "      <td>0.266807</td>\n",
       "      <td>0.693147</td>\n",
       "      <td>0.096652</td>\n",
       "      <td>0.000045</td>\n",
       "      <td>16.861310</td>\n",
       "    </tr>\n",
       "    <tr>\n",
       "      <th>10</th>\n",
       "      <td>0.472789</td>\n",
       "      <td>0.064026</td>\n",
       "      <td>1.098612</td>\n",
       "      <td>0.052205</td>\n",
       "      <td>0.000024</td>\n",
       "      <td>26.724544</td>\n",
       "    </tr>\n",
       "    <tr>\n",
       "      <th>161</th>\n",
       "      <td>0.620948</td>\n",
       "      <td>0.309724</td>\n",
       "      <td>1.386294</td>\n",
       "      <td>0.028889</td>\n",
       "      <td>0.000013</td>\n",
       "      <td>33.722620</td>\n",
       "    </tr>\n",
       "    <tr>\n",
       "      <th>508</th>\n",
       "      <td>0.521909</td>\n",
       "      <td>0.320428</td>\n",
       "      <td>1.609438</td>\n",
       "      <td>0.039588</td>\n",
       "      <td>0.000018</td>\n",
       "      <td>39.150749</td>\n",
       "    </tr>\n",
       "  </tbody>\n",
       "</table>\n",
       "</div>"
      ],
      "text/plain": [
       "        FSC-H     SSC-H     FL1-A   density      freq  intensity\n",
       "206  0.617547  0.340136  0.000000  0.010357  0.000005   0.000000\n",
       "22   0.527611  0.266807  0.693147  0.096652  0.000045  16.861310\n",
       "10   0.472789  0.064026  1.098612  0.052205  0.000024  26.724544\n",
       "161  0.620948  0.309724  1.386294  0.028889  0.000013  33.722620\n",
       "508  0.521909  0.320428  1.609438  0.039588  0.000018  39.150749"
      ]
     },
     "execution_count": 22,
     "metadata": {},
     "output_type": "execute_result"
    }
   ],
   "source": [
    "fl1h = sub_test['FL1-A'].as_matrix()\n",
    "density = gaussian_kde(fl1h).evaluate(fl1h)\n",
    "sub_test['density'] = density\n",
    "d_sum = sub_test['density'].sum()\n",
    "sub_test['freq'] = sub_test['density'].apply(lambda x: x / d_sum)\n",
    "fl1h_max = sub_test['FL1-A'].max()\n",
    "sub_test['intensity'] = sub_test['FL1-A'].apply(lambda x: 100 * (x / fl1h_max))\n",
    "sub_test.drop_duplicates(['FL1-A', 'density', 'freq', 'intensity'],\n",
    "                         inplace=True)\n",
    "sub_test.sort_values('intensity', inplace=True)\n",
    "sub_test.head()"
   ]
  },
  {
   "cell_type": "code",
   "execution_count": 23,
   "metadata": {},
   "outputs": [],
   "source": [
    "intense = sub_test['intensity'].values\n",
    "dense = sub_test['density'].values\n",
    "freq = sub_test['freq'].values"
   ]
  },
  {
   "cell_type": "code",
   "execution_count": 24,
   "metadata": {},
   "outputs": [],
   "source": [
    "smooth_spline = CubicSpline(sub_test['intensity'], sub_test['freq'])\n",
    "spline_derivative = smooth_spline.derivative()\n",
    "den_x = smooth_spline(sub_test['density'])\n",
    "intense_x = smooth_spline(sub_test['intensity'])\n",
    "freq_x = smooth_spline(sub_test['freq'])"
   ]
  },
  {
   "cell_type": "code",
   "execution_count": 25,
   "metadata": {},
   "outputs": [
    {
     "data": {
      "text/plain": [
       "[<matplotlib.lines.Line2D at 0x1bc747c9e80>]"
      ]
     },
     "execution_count": 25,
     "metadata": {},
     "output_type": "execute_result"
    },
    {
     "data": {
      "image/png": "[encoded data removed]",
      "text/plain": [
       "<Figure size 432x288 with 1 Axes>"
      ]
     },
     "metadata": {
      "needs_background": "light"
     },
     "output_type": "display_data"
    }
   ],
   "source": [
    "peaks1, properties1 = find_peaks(freq_x)\n",
    "x_vals = intense[peaks1]\n",
    "y_vals = freq[peaks1]\n",
    "plt.plot(intense, freq)\n",
    "plt.plot(x_vals, y_vals, \"o\", color='k')"
   ]
  },
  {
   "cell_type": "code",
   "execution_count": 26,
   "metadata": {},
   "outputs": [
    {
     "data": {
      "text/plain": [
       "array([16.86130987, 82.73660283])"
      ]
     },
     "execution_count": 26,
     "metadata": {},
     "output_type": "execute_result"
    }
   ],
   "source": [
    "x_vals"
   ]
  },
  {
   "cell_type": "code",
   "execution_count": 27,
   "metadata": {},
   "outputs": [
    {
     "data": {
      "text/plain": [
       "array([4.46245832e-05, 5.11488284e-04])"
      ]
     },
     "execution_count": 27,
     "metadata": {},
     "output_type": "execute_result"
    }
   ],
   "source": [
    "y_vals"
   ]
  },
  {
   "cell_type": "code",
   "execution_count": 14,
   "metadata": {},
   "outputs": [
    {
     "data": {
      "text/html": [
       "<div>\n",
       "<style scoped>\n",
       "    .dataframe tbody tr th:only-of-type {\n",
       "        vertical-align: middle;\n",
       "    }\n",
       "\n",
       "    .dataframe tbody tr th {\n",
       "        vertical-align: top;\n",
       "    }\n",
       "\n",
       "    .dataframe thead th {\n",
       "        text-align: right;\n",
       "    }\n",
       "</style>\n",
       "<table border=\"1\" class=\"dataframe\">\n",
       "  <thead>\n",
       "    <tr style=\"text-align: right;\">\n",
       "      <th></th>\n",
       "      <th>FSC-H</th>\n",
       "      <th>SSC-H</th>\n",
       "      <th>FL1-A</th>\n",
       "      <th>density</th>\n",
       "      <th>freq</th>\n",
       "      <th>intensity</th>\n",
       "    </tr>\n",
       "  </thead>\n",
       "  <tbody>\n",
       "    <tr>\n",
       "      <th>22</th>\n",
       "      <td>0.527611</td>\n",
       "      <td>0.266807</td>\n",
       "      <td>0.693147</td>\n",
       "      <td>0.096652</td>\n",
       "      <td>0.000045</td>\n",
       "      <td>16.861310</td>\n",
       "    </tr>\n",
       "    <tr>\n",
       "      <th>90</th>\n",
       "      <td>0.732593</td>\n",
       "      <td>0.405362</td>\n",
       "      <td>3.401197</td>\n",
       "      <td>1.107829</td>\n",
       "      <td>0.000511</td>\n",
       "      <td>82.736603</td>\n",
       "    </tr>\n",
       "  </tbody>\n",
       "</table>\n",
       "</div>"
      ],
      "text/plain": [
       "       FSC-H     SSC-H     FL1-A   density      freq  intensity\n",
       "22  0.527611  0.266807  0.693147  0.096652  0.000045  16.861310\n",
       "90  0.732593  0.405362  3.401197  1.107829  0.000511  82.736603"
      ]
     },
     "execution_count": 14,
     "metadata": {},
     "output_type": "execute_result"
    }
   ],
   "source": [
    "peaks_data = sub_test.loc[sub_test['freq'].isin(y_vals)]\n",
    "peaks_data = peaks_data.loc[peaks_data['intensity'].isin(x_vals)]\n",
    "peaks_data = peaks_data.loc[peaks_data['freq'] > .00003]\n",
    "peaks_data = peaks_data.loc[peaks_data['intensity'] < 99]\n",
    "peaks_data.head()"
   ]
  },
  {
   "cell_type": "code",
   "execution_count": 15,
   "metadata": {},
   "outputs": [],
   "source": [
    "max_int = max(peaks_data['intensity'])\n",
    "len_condition = len(peaks_data.loc[peaks_data['intensity'] > max_int - 10])\n",
    "if len_condition == len(peaks_data):\n",
    "    maxima = [max_int]\n",
    "else:\n",
    "    min_int = min(peaks_data['intensity'])\n",
    "    maxima = [min_int, max_int]\n",
    "    maxima_mean = sum(maxima) / len(maxima)\n",
    "    abs_condition = abs(sub_test['intensity'] - maxima_mean)\n",
    "    min_condition = min(abs_condition)\n",
    "    mean_data = sub_test.loc[abs_condition == min_condition]\n",
    "    meanidx = max(mean_data['intensity'])"
   ]
  },
  {
   "cell_type": "code",
   "execution_count": 16,
   "metadata": {},
   "outputs": [
    {
     "data": {
      "text/plain": [
       "[16.861309868950112, 82.7366028255924]"
      ]
     },
     "execution_count": 16,
     "metadata": {},
     "output_type": "execute_result"
    }
   ],
   "source": [
    "maxima"
   ]
  },
  {
   "cell_type": "code",
   "execution_count": 17,
   "metadata": {},
   "outputs": [
    {
     "data": {
      "text/plain": [
       "50.58392960685033"
      ]
     },
     "execution_count": 17,
     "metadata": {},
     "output_type": "execute_result"
    }
   ],
   "source": [
    "meanidx"
   ]
  },
  {
   "cell_type": "code",
   "execution_count": 18,
   "metadata": {},
   "outputs": [
    {
     "data": {
      "text/html": [
       "<div>\n",
       "<style scoped>\n",
       "    .dataframe tbody tr th:only-of-type {\n",
       "        vertical-align: middle;\n",
       "    }\n",
       "\n",
       "    .dataframe tbody tr th {\n",
       "        vertical-align: top;\n",
       "    }\n",
       "\n",
       "    .dataframe thead th {\n",
       "        text-align: right;\n",
       "    }\n",
       "</style>\n",
       "<table border=\"1\" class=\"dataframe\">\n",
       "  <thead>\n",
       "    <tr style=\"text-align: right;\">\n",
       "      <th></th>\n",
       "      <th>FSC-H</th>\n",
       "      <th>SSC-H</th>\n",
       "      <th>FL1-A</th>\n",
       "      <th>density</th>\n",
       "      <th>freq</th>\n",
       "      <th>intensity</th>\n",
       "    </tr>\n",
       "  </thead>\n",
       "  <tbody>\n",
       "    <tr>\n",
       "      <th>9</th>\n",
       "      <td>0.585434</td>\n",
       "      <td>0.417167</td>\n",
       "      <td>2.079442</td>\n",
       "      <td>0.130607</td>\n",
       "      <td>0.00006</td>\n",
       "      <td>50.58393</td>\n",
       "    </tr>\n",
       "  </tbody>\n",
       "</table>\n",
       "</div>"
      ],
      "text/plain": [
       "      FSC-H     SSC-H     FL1-A   density     freq  intensity\n",
       "9  0.585434  0.417167  2.079442  0.130607  0.00006   50.58393"
      ]
     },
     "execution_count": 18,
     "metadata": {},
     "output_type": "execute_result"
    }
   ],
   "source": [
    "mean_data"
   ]
  },
  {
   "cell_type": "code",
   "execution_count": 19,
   "metadata": {},
   "outputs": [],
   "source": [
    "if len(maxima) == 2:\n",
    "    upper_freq = sub_test.loc[sub_test['intensity'] >= meanidx,\n",
    "                              'freq']\n",
    "    bc_percent = round((100 * upper_freq.sum()), 1)\n",
    "elif (len(maxima) == 1) & (maxima[0] > 75):\n",
    "    exp_log_maxima = math.exp(math.log(maxima[0]) - .15)\n",
    "    abs_condition = abs(sub_test['intensity'] - exp_log_maxima)\n",
    "    min_condition = min(abs_condition)\n",
    "    exp_log_data = sub_test.loc[abs_condition == min_condition]\n",
    "    exp_log_val = max(exp_log_data['intensity'])\n",
    "    exp_log_freq = exp_log_data.loc[\n",
    "        exp_log_data['intensity'] >= exp_log_val, 'freq']\n",
    "    bc_percent = round((100 * exp_log_freq.sum()), 1)\n",
    "elif (len(maxima) == 1) & (maxima[0] <= 75):\n",
    "    exp_log_maxima = math.exp(math.log(maxima[0]) + .15)\n",
    "    abs_condition = abs(sub_test['intensity'] - exp_log_maxima)\n",
    "    min_condition = min(abs_condition)\n",
    "    exp_log_data = sub_test.loc[abs_condition == min_condition]\n",
    "    exp_log_val = max(exp_log_data['intensity'])\n",
    "    exp_log_freq = exp_log_data.loc[\n",
    "        exp_log_data['intensity'] >= exp_log_val, 'freq']\n",
    "    bc_percent = round((100 * exp_log_freq.sum()), 1)\n",
    "else:\n",
    "    raise ValueError('Something went wrong!')"
   ]
  },
  {
   "cell_type": "code",
   "execution_count": 20,
   "metadata": {},
   "outputs": [
    {
     "data": {
      "text/plain": [
       "1.1"
      ]
     },
     "execution_count": 20,
     "metadata": {},
     "output_type": "execute_result"
    }
   ],
   "source": [
    "bc_percent"
   ]
  },
  {
   "cell_type": "code",
   "execution_count": 21,
   "metadata": {},
   "outputs": [],
   "source": [
    "mainp = ''.join('{}, '.format(x) for x in maxima)"
   ]
  },
  {
   "cell_type": "code",
   "execution_count": 22,
   "metadata": {},
   "outputs": [
    {
     "data": {
      "text/plain": [
       "'16.861309868950112, 82.7366028255924, '"
      ]
     },
     "execution_count": 22,
     "metadata": {},
     "output_type": "execute_result"
    }
   ],
   "source": [
    "mainp"
   ]
  },
  {
   "cell_type": "code",
   "execution_count": 23,
   "metadata": {},
   "outputs": [
    {
     "data": {
      "text/plain": [
       "[<matplotlib.lines.Line2D at 0x2a071655908>]"
      ]
     },
     "execution_count": 23,
     "metadata": {},
     "output_type": "execute_result"
    },
    {
     "data": {
      "image/png": "[encoded data removed]",
      "text/plain": [
       "<Figure size 432x288 with 1 Axes>"
      ]
     },
     "metadata": {
      "needs_background": "light"
     },
     "output_type": "display_data"
    }
   ],
   "source": [
    "plt.plot(intense, freq)"
   ]
  },
  {
   "cell_type": "code",
   "execution_count": null,
   "metadata": {},
   "outputs": [],
   "source": []
  },
  {
   "cell_type": "code",
   "execution_count": 28,
   "metadata": {},
   "outputs": [
    {
     "data": {
      "text/html": [
       "<div>\n",
       "<style scoped>\n",
       "    .dataframe tbody tr th:only-of-type {\n",
       "        vertical-align: middle;\n",
       "    }\n",
       "\n",
       "    .dataframe tbody tr th {\n",
       "        vertical-align: top;\n",
       "    }\n",
       "\n",
       "    .dataframe thead th {\n",
       "        text-align: right;\n",
       "    }\n",
       "</style>\n",
       "<table border=\"1\" class=\"dataframe\">\n",
       "  <thead>\n",
       "    <tr style=\"text-align: right;\">\n",
       "      <th></th>\n",
       "      <th>one</th>\n",
       "      <th>two</th>\n",
       "    </tr>\n",
       "  </thead>\n",
       "  <tbody>\n",
       "  </tbody>\n",
       "</table>\n",
       "</div>"
      ],
      "text/plain": [
       "Empty DataFrame\n",
       "Columns: [one, two]\n",
       "Index: []"
      ]
     },
     "execution_count": 28,
     "metadata": {},
     "output_type": "execute_result"
    }
   ],
   "source": [
    "test = pd.DataFrame(columns=['one', 'two'])\n",
    "test"
   ]
  },
  {
   "cell_type": "code",
   "execution_count": null,
   "metadata": {},
   "outputs": [],
   "source": []
  }
 ],
 "metadata": {
  "kernelspec": {
   "display_name": "Python 3",
   "language": "python",
   "name": "python3"
  },
  "language_info": {
   "codemirror_mode": {
    "name": "ipython",
    "version": 3
   },
   "file_extension": ".py",
   "mimetype": "text/x-python",
   "name": "python",
   "nbconvert_exporter": "python",
   "pygments_lexer": "ipython3",
   "version": "3.7.3"
  }
 },
 "nbformat": 4,
 "nbformat_minor": 2
}
